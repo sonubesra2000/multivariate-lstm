{
 "cells": [
  {
   "cell_type": "code",
   "execution_count": 1,
   "metadata": {},
   "outputs": [],
   "source": [
    "import pandas as pd \n",
    "import numpy as np \n",
    "import os\n",
    "import cv2\n",
    "import numpy as np\n",
    "from datetime import datetime\n",
    "\n",
    "# Data Preprocessing\n",
    "data_folder = r\"C:\\Users\\Sonu\\Desktop\\vis06\"\n",
    "look_back = 10 \n",
    "\n",
    "# 1. Load Images and Sort by Timestamps\n",
    "image_files = sorted(os.listdir(data_folder), key=lambda x: datetime.strptime(x.split('.')[0], '%Y-%m-%d_%H_%M'))\n"
   ]
  },
  {
   "cell_type": "code",
   "execution_count": null,
   "metadata": {},
   "outputs": [],
   "source": [
    "# def get_marker_x_y(lat, lon):\n",
    "#     lon0 = 45.5\n",
    "#     lat0 = 0\n",
    "#     img_size = 3712\n",
    "#     marker_x = int(img_size / 2 + (lon - lon0) / 0.0415)\n",
    "#     marker_y = int(img_size / 2 + (lat0 - lat) / 0.0414)\n",
    "#     return marker_x, marker_y\n",
    "\n",
    "# x_min= -7.5416851\n",
    "# x_max= -4.64747\n",
    "# y_min= 40.48665619\n",
    "# y_max= 37.94104004\n",
    "\n",
    "# y_min_pix,x_min_pix=get_marker_x_y(y_min,x_min)\n",
    "# y_max_pix,x_max_pix=get_marker_x_y(y_max,x_max)\n",
    "\n",
    "# pad=25\n",
    "# crop=im[x_min_pix-pad:x_max_pix+pad,y_min_pix-pad:y_max_pix+pad]\n",
    "\n",
    "# plt.figure(figsize=(10,10))\n",
    "# plt.imshow(im)\n",
    "# plt.axis(\"off\")\n",
    "\n"
   ]
  },
  {
   "cell_type": "code",
   "execution_count": 6,
   "metadata": {},
   "outputs": [
    {
     "ename": "error",
     "evalue": "OpenCV(4.6.0) D:\\a\\opencv-python\\opencv-python\\opencv\\modules\\core\\src\\alloc.cpp:73: error: (-4:Insufficient memory) Failed to allocate 41336832 bytes in function 'cv::OutOfMemoryError'\n",
     "output_type": "error",
     "traceback": [
      "\u001b[1;31m---------------------------------------------------------------------------\u001b[0m",
      "\u001b[1;31merror\u001b[0m                                     Traceback (most recent call last)",
      "\u001b[1;32mc:\\Users\\Sonu\\Desktop\\red_electrica\\img.ipynb Cell 3\u001b[0m in \u001b[0;36m<cell line: 3>\u001b[1;34m()\u001b[0m\n\u001b[0;32m      <a href='vscode-notebook-cell:/c%3A/Users/Sonu/Desktop/red_electrica/img.ipynb#W1sZmlsZQ%3D%3D?line=4'>5</a>\u001b[0m \u001b[39mfor\u001b[39;00m j \u001b[39min\u001b[39;00m \u001b[39mrange\u001b[39m(look_back):\n\u001b[0;32m      <a href='vscode-notebook-cell:/c%3A/Users/Sonu/Desktop/red_electrica/img.ipynb#W1sZmlsZQ%3D%3D?line=5'>6</a>\u001b[0m     image_path \u001b[39m=\u001b[39m os\u001b[39m.\u001b[39mpath\u001b[39m.\u001b[39mjoin(data_folder, image_files[i \u001b[39m+\u001b[39m j])\n\u001b[1;32m----> <a href='vscode-notebook-cell:/c%3A/Users/Sonu/Desktop/red_electrica/img.ipynb#W1sZmlsZQ%3D%3D?line=6'>7</a>\u001b[0m     image \u001b[39m=\u001b[39m cv2\u001b[39m.\u001b[39;49mimread(image_path)\n\u001b[0;32m      <a href='vscode-notebook-cell:/c%3A/Users/Sonu/Desktop/red_electrica/img.ipynb#W1sZmlsZQ%3D%3D?line=7'>8</a>\u001b[0m     \u001b[39m# Perform any necessary image preprocessing (e.g., resizing, normalization)\u001b[39;00m\n\u001b[0;32m      <a href='vscode-notebook-cell:/c%3A/Users/Sonu/Desktop/red_electrica/img.ipynb#W1sZmlsZQ%3D%3D?line=8'>9</a>\u001b[0m     sequence\u001b[39m.\u001b[39mappend(image)\n",
      "\u001b[1;31merror\u001b[0m: OpenCV(4.6.0) D:\\a\\opencv-python\\opencv-python\\opencv\\modules\\core\\src\\alloc.cpp:73: error: (-4:Insufficient memory) Failed to allocate 41336832 bytes in function 'cv::OutOfMemoryError'\n"
     ]
    }
   ],
   "source": [
    "sequences = []\n",
    "targets = []\n",
    "for i in range(len(image_files) - look_back):\n",
    "    sequence = []\n",
    "    for j in range(look_back):\n",
    "        image_path = os.path.join(data_folder, image_files[i + j])\n",
    "        image = cv2.imread(image_path)\n",
    "        sequence.append(image)\n",
    "    target_path = os.path.join(data_folder, image_files[i + look_back])\n",
    "    target = cv2.imread(target_path)\n",
    "\n",
    "    sequences.append(sequence)\n",
    "    targets.append(target)\n",
    "\n",
    "\n",
    "sequences = np.array(sequences, dtype=np.float32) / 255.0\n",
    "targets = np.array(targets, dtype=np.float32) / 255.0\n",
    "\n",
    "train_size = int(0.8 * len(sequences))\n",
    "X_train, X_test = sequences[:train_size], sequences[train_size:]\n",
    "Y_train, Y_test = targets[:train_size], targets[train_size:]\n",
    "\n",
    "image_height, image_width, num_channels=(3712,3712,1)\n",
    "X_train = X_train.reshape(-1, look_back, image_height, image_width, num_channels)\n",
    "X_test = X_test.reshape(-1, look_back, image_height, image_width, num_channels)\n",
    "Y_train = Y_train.reshape(-1, image_height, image_width, num_channels)\n",
    "Y_test = Y_test.reshape(-1, image_height, image_width, num_channels)"
   ]
  },
  {
   "cell_type": "code",
   "execution_count": 2,
   "metadata": {},
   "outputs": [
    {
     "name": "stdout",
     "output_type": "stream",
     "text": [
      "1690795800\n"
     ]
    }
   ],
   "source": [
    "from datetime import datetime\n",
    "\n",
    "# Sample date and time information\n",
    "year = 2023\n",
    "month = 7\n",
    "day = 31\n",
    "hour = 15\n",
    "\n",
    "# Create a datetime object\n",
    "dt = datetime(year=year, month=month, day=day, hour=hour)\n",
    "\n",
    "# Convert datetime to a numerical timestamp\n",
    "timestamp = int(dt.timestamp())\n",
    "\n",
    "print(timestamp)"
   ]
  }
 ],
 "metadata": {
  "kernelspec": {
   "display_name": "base",
   "language": "python",
   "name": "python3"
  },
  "language_info": {
   "codemirror_mode": {
    "name": "ipython",
    "version": 3
   },
   "file_extension": ".py",
   "mimetype": "text/x-python",
   "name": "python",
   "nbconvert_exporter": "python",
   "pygments_lexer": "ipython3",
   "version": "3.9.12"
  },
  "orig_nbformat": 4
 },
 "nbformat": 4,
 "nbformat_minor": 2
}
